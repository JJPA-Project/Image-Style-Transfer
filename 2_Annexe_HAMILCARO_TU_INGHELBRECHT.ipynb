{
 "cells": [
  {
   "cell_type": "markdown",
   "metadata": {},
   "source": [
    "<div style=\"text-align:center\"> \n",
    "        <strong style=\"font-size:30px;\"> <br> Deep Learning <br><br>  Transfert de style d'images (Pistes d'extension)<br> \n",
    "</strong> \n",
    "    <br><br>   \n",
    "Auteurs : Paul-Antoine Inghelbrecht, Joël Hamilcaro, Jie Tu <br><br>\n",
    "18 février 2022\n",
    "</div>\n",
    "\n",
    "\n",
    "**Objectifs :**\n",
    "\n",
    "En guise d'extension, nous allons essayer d'implémenter de deux autres méthodes de transfert de style d'image. La première est une architecture spécialisée dans un seul style (qu'il pourra transférer à n'importe quelle image). Il s'agit du modèle cité dans l'article de [Johnson, Alahi et Fei-Fei](https://arxiv.org/abs/1603.08155). La seconde est une architecture qui, en une seule étape d'entraînement, s'adapte à tout type de transfert : c'est l'\"Arbitrary Style Transfert\", décrit notamment dans les papiers de [Huang](https://arxiv.org/abs/1703.06868) et [Ghiasi](https://arxiv.org/abs/1705.06830). Ces deux méthodes correspondent aux architectures **(2)** et **(3)** que nous avons décrit en préambule dans l'*Abstract* du notebook `1_Projet_HAMILCARO_TU_INGHELBRECHT.ipypnb`. \n",
    "\n",
    "Dans ce notebook on présente nos pistes de recherche.\n",
    "\n",
    "## « Perceptual Losses for Real-Time Style Transfer and Super-Resolution » \n",
    "\n",
    "Nous allons utiliser un modèle  un modèle pré-entraîné (CNN), et à partir de celui-ci, créer un modèle qui sera lié a un seul style. C’est-à-dire qu’il n’y aura pas de possibilité de choisir le style entre chaque image. \n",
    "\n",
    "Ce modèle est composé de deux réseaux :\n",
    "\n",
    "- l’image de contenu va être transformée en plusieurs \"features\", modifiée puis recréée avec le nouveau style. La structure du modèle est différente, utilisant un VGG16 et modifiant certaines couches afin d’obtenir de meilleurs résultats (Papier de [Radford](https://arxiv.org/abs/1511.06434)). \n",
    "\n",
    "- Le calcul de perte sera basé sur la « Perception Loss » qui est comparable à la Total Loss.\n",
    "\n",
    "Pour ce modèle, le temps de calcul est plus élevé, car il faut entraîner le réseau avec le style sur une base de données images importantes. Mais une fois le modèle entraîné avec le style, le transfert est rapide.\n",
    "\n",
    "\n",
    "### Import de l'architecture \n",
    "\n",
    "Nous avons donc importer l'architecture déjà implémentée sur ce repertoire GitHub : https://github.com/pytorch/examples/tree/master/fast_neural_style\n",
    "\n",
    "Nous avons quand même cherché à modifier l'architecture en utilisant un modèle VGG19."
   ]
  },
  {
   "cell_type": "code",
   "execution_count": 1,
   "metadata": {
    "colab": {
     "base_uri": "https://localhost:8080/"
    },
    "id": "HmRNTKr0a-rF",
    "outputId": "419f80f2-8d97-45ec-fdb2-bb7f4714c706"
   },
   "outputs": [],
   "source": [
    "if 'google.colab' in str(get_ipython()):\n",
    "    in_colab = True\n",
    "    from google.colab import drive\n",
    "    drive.mount('/content/drive')\n",
    "    path = \"drive/MyDrive/projetDL/\" # modify if needed \n",
    "else:\n",
    "    in_colab = False\n",
    "    path = \"./projetDL-20220214T145006Z-001/projetDL/\" # modify if needed "
   ]
  },
  {
   "cell_type": "code",
   "execution_count": 2,
   "metadata": {
    "id": "6C5vkgwck858"
   },
   "outputs": [],
   "source": [
    "import time \n",
    "import os\n",
    "import re\n",
    "import matplotlib.pyplot as plt\n",
    "import numpy as np\n",
    "import torch\n",
    "import torchvision.models.vgg as vgg\n",
    "import torch.utils.model_zoo as model_zoo\n",
    "from torchvision import transforms\n",
    "from torch.utils.data import DataLoader\n",
    "from torchvision import datasets\n",
    "from torch.optim import Adam\n",
    "from torch.autograd import Variable\n",
    "from PIL import Image, ImageFile\n",
    "from tqdm import tqdm_notebook\n",
    "from collections import namedtuple\n",
    "\n",
    "%matplotlib inline\n",
    "ImageFile.LOAD_TRUNCATED_IMAGES = True"
   ]
  },
  {
   "cell_type": "code",
   "execution_count": 3,
   "metadata": {
    "id": "bdRgPsJ6lmC7"
   },
   "outputs": [],
   "source": [
    "\n",
    "class TransformerNet(torch.nn.Module):\n",
    "    def __init__(self):\n",
    "        super(TransformerNet, self).__init__()\n",
    "        # Initial convolution layers\n",
    "        self.conv1 = ConvLayer(3, 32, kernel_size=9, stride=1)\n",
    "        self.in1 = torch.nn.InstanceNorm2d(32, affine=True)\n",
    "        self.conv2 = ConvLayer(32, 64, kernel_size=3, stride=2)\n",
    "        self.in2 = torch.nn.InstanceNorm2d(64, affine=True)\n",
    "        self.conv3 = ConvLayer(64, 128, kernel_size=3, stride=2)\n",
    "        self.in3 = torch.nn.InstanceNorm2d(128, affine=True)\n",
    "        # Residual layers\n",
    "        self.res1 = ResidualBlock(128)\n",
    "        self.res2 = ResidualBlock(128)\n",
    "        self.res3 = ResidualBlock(128)\n",
    "        self.res4 = ResidualBlock(128)\n",
    "        self.res5 = ResidualBlock(128)\n",
    "        # Upsampling Layers\n",
    "        self.deconv1 = UpsampleConvLayer(\n",
    "            128, 64, kernel_size=3, stride=1, upsample=2)\n",
    "        self.in4 = torch.nn.InstanceNorm2d(64, affine=True)\n",
    "        self.deconv2 = UpsampleConvLayer(\n",
    "            64, 32, kernel_size=3, stride=1, upsample=2)\n",
    "        self.in5 = torch.nn.InstanceNorm2d(32, affine=True)\n",
    "        self.deconv3 = ConvLayer(32, 3, kernel_size=9, stride=1)\n",
    "        # Non-linearities\n",
    "        self.relu = torch.nn.ReLU()\n",
    "\n",
    "    def forward(self, X):\n",
    "        y = self.relu(self.in1(self.conv1(X)))\n",
    "        y = self.relu(self.in2(self.conv2(y)))\n",
    "        y = self.relu(self.in3(self.conv3(y)))\n",
    "        y = self.res1(y)\n",
    "        y = self.res2(y)\n",
    "        y = self.res3(y)\n",
    "        y = self.res4(y)\n",
    "        y = self.res5(y)\n",
    "        y = self.relu(self.in4(self.deconv1(y)))\n",
    "        y = self.relu(self.in5(self.deconv2(y)))\n",
    "        y = self.deconv3(y)\n",
    "        return y\n",
    "\n",
    "\n",
    "class ConvLayer(torch.nn.Module):\n",
    "    def __init__(self, in_channels, out_channels, kernel_size, stride):\n",
    "        super(ConvLayer, self).__init__()\n",
    "        reflection_padding = kernel_size // 2\n",
    "        self.reflection_pad = torch.nn.ReflectionPad2d(reflection_padding)\n",
    "        self.conv2d = torch.nn.Conv2d(\n",
    "            in_channels, out_channels, kernel_size, stride)\n",
    "\n",
    "    def forward(self, x):\n",
    "        out = self.reflection_pad(x)\n",
    "        out = self.conv2d(out)\n",
    "        return out\n",
    "\n",
    "\n",
    "class ResidualBlock(torch.nn.Module):\n",
    "    \"\"\"ResidualBlock\n",
    "    introduced in: https://arxiv.org/abs/1512.03385\n",
    "    recommended architecture: http://torch.ch/blog/2016/02/04/resnets.html\n",
    "    \"\"\"\n",
    "\n",
    "    def __init__(self, channels):\n",
    "        super(ResidualBlock, self).__init__()\n",
    "        self.conv1 = ConvLayer(channels, channels, kernel_size=3, stride=1)\n",
    "        self.in1 = torch.nn.InstanceNorm2d(channels, affine=True)\n",
    "        self.conv2 = ConvLayer(channels, channels, kernel_size=3, stride=1)\n",
    "        self.in2 = torch.nn.InstanceNorm2d(channels, affine=True)\n",
    "        self.relu = torch.nn.ReLU()\n",
    "\n",
    "    def forward(self, x):\n",
    "        residual = x\n",
    "        out = self.relu(self.in1(self.conv1(x)))\n",
    "        out = self.in2(self.conv2(out))\n",
    "        out = out + residual\n",
    "        return out\n",
    "\n",
    "\n",
    "class UpsampleConvLayer(torch.nn.Module):\n",
    "    \"\"\"UpsampleConvLayer\n",
    "    Upsamples the input and then does a convolution. This method gives better results\n",
    "    compared to ConvTranspose2d.\n",
    "    ref: http://distill.pub/2016/deconv-checkerboard/\n",
    "    \"\"\"\n",
    "\n",
    "    def __init__(self, in_channels, out_channels, kernel_size, stride, upsample=None):\n",
    "        super(UpsampleConvLayer, self).__init__()\n",
    "        self.upsample = upsample\n",
    "        if upsample:\n",
    "            self.upsample_layer = torch.nn.Upsample(\n",
    "                mode='nearest', scale_factor=upsample)\n",
    "        reflection_padding = kernel_size // 2\n",
    "        self.reflection_pad = torch.nn.ReflectionPad2d(reflection_padding)\n",
    "        self.conv2d = torch.nn.Conv2d(\n",
    "            in_channels, out_channels, kernel_size, stride)\n",
    "\n",
    "    def forward(self, x):\n",
    "        x_in = x\n",
    "        if self.upsample:\n",
    "            x_in = self.upsample_layer(x_in)\n",
    "        out = self.reflection_pad(x_in)\n",
    "        out = self.conv2d(out)\n",
    "        return out"
   ]
  },
  {
   "cell_type": "code",
   "execution_count": 4,
   "metadata": {
    "id": "isc41qpCl05S"
   },
   "outputs": [],
   "source": [
    "LossOutput = namedtuple(\n",
    "    \"LossOutput\", [\"relu1\", \"relu2\", \"relu3\", \"relu4\", \"relu5\"])\n",
    "\n",
    "class LossNetwork(torch.nn.Module):\n",
    "    \"\"\"Reference:\n",
    "        https://discuss.pytorch.org/t/how-to-extract-features-of-an-image-from-a-trained-model/119/3\n",
    "    \"\"\"\n",
    "\n",
    "    def __init__(self):\n",
    "        super(LossNetwork, self).__init__()\n",
    "        self.vgg_layers = vgg.vgg19(pretrained=True).features\n",
    "        self.layer_name_mapping = {\n",
    "            '3': \"relu1\",\n",
    "            '8': \"relu2\",\n",
    "            '17': \"relu3\",\n",
    "            '26': \"relu4\",\n",
    "            '35': \"relu5\",\n",
    "        }\n",
    "\n",
    "    def forward(self, x):\n",
    "        output = {}\n",
    "        for name, module in self.vgg_layers._modules.items():\n",
    "            x = module(x)\n",
    "            if name in self.layer_name_mapping:\n",
    "                output[self.layer_name_mapping[name]] = x\n",
    "        return LossOutput(**output)"
   ]
  },
  {
   "cell_type": "markdown",
   "metadata": {},
   "source": [
    "Le modèle NetTransfer va prendre une image en entrée et la transformer en un output. Les points des couches du réseau seront appris en fonction des calculs de loss et du transfer de style.\n",
    "\n",
    "Le modèle LossNetwork utilise un modèle pré-entraîné VGG19. On va lui indiquer les couches qui vont en particulier le contenu ou le style d'une image."
   ]
  },
  {
   "cell_type": "code",
   "execution_count": 5,
   "metadata": {
    "id": "9v57Ay1ql58O"
   },
   "outputs": [],
   "source": [
    "def gram_matrix(y):\n",
    "    (b, ch, h, w) = y.size()\n",
    "    features = y.view(b, ch, w * h)\n",
    "    features_t = features.transpose(1, 2)\n",
    "    gram = features.bmm(features_t) / (ch * h * w)\n",
    "    return gram\n",
    "\n",
    "def normalize_batch(batch):\n",
    "    # normalize using imagenet mean and std\n",
    "    mean = batch.new_tensor([0.485, 0.456, 0.406]).view(-1, 1, 1)\n",
    "    std = batch.new_tensor([0.229, 0.224, 0.225]).view(-1, 1, 1)\n",
    "    batch = batch.div_(255.0)\n",
    "    return (batch - mean) / std\n",
    "\n",
    "def recover_image(img):\n",
    "    return (\n",
    "        (\n",
    "            img *\n",
    "            np.array([0.229, 0.224, 0.225]).reshape((1, 3, 1, 1)) +\n",
    "            np.array([0.485, 0.456, 0.406]).reshape((1, 3, 1, 1))\n",
    "        ).transpose(0, 2, 3, 1) *\n",
    "        255.\n",
    "    ).clip(0, 255).astype(np.uint8)"
   ]
  },
  {
   "cell_type": "code",
   "execution_count": 6,
   "metadata": {
    "colab": {
     "base_uri": "https://localhost:8080/"
    },
    "id": "WMgpzfzlmZhm",
    "outputId": "3c48e98d-7356-4e2e-fb83-5224f67f42bf"
   },
   "outputs": [],
   "source": [
    "#DATASET = path\n",
    "transform = transforms.Compose([\n",
    "    transforms.Resize(224), \n",
    "    transforms.CenterCrop(224),\n",
    "    transforms.ToTensor(), \n",
    "    transforms.Normalize(\n",
    "        mean=[0.485, 0.456, 0.406],\n",
    "        std=[0.229, 0.224, 0.225])])\n",
    "train_dataset = datasets.ImageFolder(\"./dataset/\", transform)\n",
    "train_loader = DataLoader(train_dataset, batch_size=4, shuffle=True)"
   ]
  },
  {
   "cell_type": "code",
   "execution_count": 7,
   "metadata": {
    "colab": {
     "base_uri": "https://localhost:8080/",
     "height": 840,
     "referenced_widgets": [
      "159bd5587516430cbf053795b97f50f3",
      "2510e8b2ac62466593970d6ce47c96b4",
      "0fdb38d476b942d59173c0f18529a33f",
      "37c406a334034b1ea02898b7834210a7",
      "5d0e3be02c234399937da5c00341b8b7",
      "6a5357afbe5241e486cf6c9c7fc552c8",
      "adb1eee36d5c43f68e838ca82bc378f4",
      "ed087943701442e99f90345fab776f25",
      "ecdf8b85429949268bd383e7c90a41d3",
      "ada0b83077064941a3579448eb5a66d4",
      "1f8f39374044474fb572b74b19dfafad"
     ]
    },
    "id": "CjpLyW99oY_4",
    "outputId": "4aa59689-e15f-4724-e020-4fd98f21974b"
   },
   "outputs": [
    {
     "data": {
      "text/plain": [
       "LossNetwork(\n",
       "  (vgg_layers): Sequential(\n",
       "    (0): Conv2d(3, 64, kernel_size=(3, 3), stride=(1, 1), padding=(1, 1))\n",
       "    (1): ReLU(inplace=True)\n",
       "    (2): Conv2d(64, 64, kernel_size=(3, 3), stride=(1, 1), padding=(1, 1))\n",
       "    (3): ReLU(inplace=True)\n",
       "    (4): MaxPool2d(kernel_size=2, stride=2, padding=0, dilation=1, ceil_mode=False)\n",
       "    (5): Conv2d(64, 128, kernel_size=(3, 3), stride=(1, 1), padding=(1, 1))\n",
       "    (6): ReLU(inplace=True)\n",
       "    (7): Conv2d(128, 128, kernel_size=(3, 3), stride=(1, 1), padding=(1, 1))\n",
       "    (8): ReLU(inplace=True)\n",
       "    (9): MaxPool2d(kernel_size=2, stride=2, padding=0, dilation=1, ceil_mode=False)\n",
       "    (10): Conv2d(128, 256, kernel_size=(3, 3), stride=(1, 1), padding=(1, 1))\n",
       "    (11): ReLU(inplace=True)\n",
       "    (12): Conv2d(256, 256, kernel_size=(3, 3), stride=(1, 1), padding=(1, 1))\n",
       "    (13): ReLU(inplace=True)\n",
       "    (14): Conv2d(256, 256, kernel_size=(3, 3), stride=(1, 1), padding=(1, 1))\n",
       "    (15): ReLU(inplace=True)\n",
       "    (16): Conv2d(256, 256, kernel_size=(3, 3), stride=(1, 1), padding=(1, 1))\n",
       "    (17): ReLU(inplace=True)\n",
       "    (18): MaxPool2d(kernel_size=2, stride=2, padding=0, dilation=1, ceil_mode=False)\n",
       "    (19): Conv2d(256, 512, kernel_size=(3, 3), stride=(1, 1), padding=(1, 1))\n",
       "    (20): ReLU(inplace=True)\n",
       "    (21): Conv2d(512, 512, kernel_size=(3, 3), stride=(1, 1), padding=(1, 1))\n",
       "    (22): ReLU(inplace=True)\n",
       "    (23): Conv2d(512, 512, kernel_size=(3, 3), stride=(1, 1), padding=(1, 1))\n",
       "    (24): ReLU(inplace=True)\n",
       "    (25): Conv2d(512, 512, kernel_size=(3, 3), stride=(1, 1), padding=(1, 1))\n",
       "    (26): ReLU(inplace=True)\n",
       "    (27): MaxPool2d(kernel_size=2, stride=2, padding=0, dilation=1, ceil_mode=False)\n",
       "    (28): Conv2d(512, 512, kernel_size=(3, 3), stride=(1, 1), padding=(1, 1))\n",
       "    (29): ReLU(inplace=True)\n",
       "    (30): Conv2d(512, 512, kernel_size=(3, 3), stride=(1, 1), padding=(1, 1))\n",
       "    (31): ReLU(inplace=True)\n",
       "    (32): Conv2d(512, 512, kernel_size=(3, 3), stride=(1, 1), padding=(1, 1))\n",
       "    (33): ReLU(inplace=True)\n",
       "    (34): Conv2d(512, 512, kernel_size=(3, 3), stride=(1, 1), padding=(1, 1))\n",
       "    (35): ReLU(inplace=True)\n",
       "    (36): MaxPool2d(kernel_size=2, stride=2, padding=0, dilation=1, ceil_mode=False)\n",
       "  )\n",
       ")"
      ]
     },
     "execution_count": 7,
     "metadata": {},
     "output_type": "execute_result"
    }
   ],
   "source": [
    "device = torch.device(\"cuda\" if torch.cuda.is_available() else \"cpu\")\n",
    "with torch.no_grad():\n",
    "    loss_network = LossNetwork()\n",
    "    loss_network.to(device)\n",
    "loss_network.eval()"
   ]
  },
  {
   "cell_type": "code",
   "execution_count": 8,
   "metadata": {
    "id": "VKNgIyfWocR9"
   },
   "outputs": [],
   "source": [
    "STYLE_IMAGE = path+\"style/style_12.jpg\"\n",
    "style_img = Image.open(STYLE_IMAGE).convert('RGB')\n",
    "with torch.no_grad():\n",
    "    style_img_tensor = transforms.Compose([\n",
    "        transforms.Resize(224),\n",
    "        transforms.ToTensor(),\n",
    "        transforms.Normalize(\n",
    "        mean=[0.485, 0.456, 0.406],\n",
    "        std=[0.229, 0.224, 0.225])]\n",
    "    )(style_img).unsqueeze(0)\n",
    "    style_img_tensor = style_img_tensor.to(device)"
   ]
  },
  {
   "cell_type": "markdown",
   "metadata": {},
   "source": [
    "Voici l'image de style sur lequel nous allons créer un modèle :"
   ]
  },
  {
   "attachments": {
    "style_12.jpg": {
     "image/jpeg": "[encoded data removed]"
    }
   },
   "cell_type": "markdown",
   "metadata": {},
   "source": [
    "![style_12.jpg](attachment:style_12.jpg)"
   ]
  },
  {
   "cell_type": "code",
   "execution_count": 9,
   "metadata": {
    "id": "Vvj4J52Qop4Q"
   },
   "outputs": [],
   "source": [
    "with torch.no_grad():\n",
    "    style_loss_features = loss_network(style_img_tensor)\n",
    "    gram_style = [gram_matrix(y) for y in style_loss_features]"
   ]
  },
  {
   "cell_type": "code",
   "execution_count": 10,
   "metadata": {
    "colab": {
     "base_uri": "https://localhost:8080/"
    },
    "id": "blCZteYsosv9",
    "outputId": "6322b2bd-67ae-4175-897e-3c31a5dbeae4"
   },
   "outputs": [
    {
     "data": {
      "text/plain": [
       "('relu1', 'relu2', 'relu3', 'relu4', 'relu5')"
      ]
     },
     "execution_count": 10,
     "metadata": {},
     "output_type": "execute_result"
    }
   ],
   "source": [
    "style_loss_features._fields"
   ]
  },
  {
   "cell_type": "code",
   "execution_count": 11,
   "metadata": {
    "colab": {
     "base_uri": "https://localhost:8080/"
    },
    "id": "HI-BpGn3oz08",
    "outputId": "ac86eabb-8884-40fc-ad07-5ca9f49b50da"
   },
   "outputs": [],
   "source": [
    "transformer = TransformerNet().to(device)\n",
    "mse_loss = torch.nn.MSELoss()\n",
    "optimizer = Adam(transformer.parameters(), 0.1)"
   ]
  },
  {
   "cell_type": "code",
   "execution_count": 12,
   "metadata": {
    "id": "o6m1STtEo25b"
   },
   "outputs": [],
   "source": [
    "torch.set_default_tensor_type('torch.FloatTensor')\n",
    "   \n",
    "def train(steps):\n",
    "    transformer.train()\n",
    "    count = 0\n",
    "    agg_content_loss = 0.\n",
    "    agg_style_loss = 0.\n",
    "    agg_reg_loss = 0.   \n",
    "    agg_stable_loss = 0.\n",
    "    while True:\n",
    "        for x, _ in train_loader:\n",
    "            count += 1\n",
    "            optimizer.zero_grad()\n",
    "            x = x.to(device)             \n",
    "            y = transformer(x)     \n",
    "            y = normalize_batch(y)\n",
    "            x = normalize_batch(x)    \n",
    "            \n",
    "            features_y = loss_network(y)\n",
    "            features_x = loss_network(x)\n",
    "            \n",
    "            content_loss = CONTENT_WEIGHT * mse_loss(features_y[2], features_x[2])\n",
    "\n",
    "            style_loss = 0.\n",
    "            for l, weight in enumerate(STYLE_WEIGHTS):\n",
    "                gram_s = gram_style[l]\n",
    "                gram_y = gram_matrix(features_y[l])\n",
    "                style_loss += float(weight) * mse_loss(gram_y, gram_s.expand_as(gram_y))\n",
    "                \n",
    "            total_loss = content_loss + style_loss\n",
    "            total_loss.backward()\n",
    "            optimizer.step()\n",
    "\n",
    "            agg_content_loss += content_loss\n",
    "            agg_style_loss += style_loss\n",
    "\n",
    "            if count % LOG_INTERVAL == 0:\n",
    "                mesg = \"{} [{}/{}] content: {:.2f}  style: {:.2f}  total: {:.6f}\".format(\n",
    "                            time.ctime(), count, steps,\n",
    "                            agg_content_loss / LOG_INTERVAL,\n",
    "                            agg_style_loss / LOG_INTERVAL,\n",
    "                            (agg_content_loss + agg_style_loss) / LOG_INTERVAL)\n",
    "                print(mesg)\n",
    "                agg_content_loss = 0.\n",
    "                agg_style_loss = 0.\n",
    "                transformer.eval()\n",
    "                transformer.train()\n",
    "\n",
    "            if count >= steps:\n",
    "                \n",
    "                transformer.eval().cpu()\n",
    "                save_model_filename = \"m1.model\"\n",
    "                save_model_path = os.path.join(\"./models\", save_model_filename)\n",
    "                torch.save(transformer.state_dict(), save_model_path)\n",
    "                return"
   ]
  },
  {
   "cell_type": "code",
   "execution_count": 13,
   "metadata": {
    "id": "HAW0QqLRo5ew"
   },
   "outputs": [],
   "source": [
    "CONTENT_WEIGHT = 1\n",
    "#STYLE_WEIGHTS = np.array([1e-1, 1, 1e1, 5, 1e1]) * 5e3\n",
    "STYLE_WEIGHTS = np.array([1, 1, 1, 1, 1]) * 1e6\n",
    "LOG_INTERVAL = 50"
   ]
  },
  {
   "cell_type": "code",
   "execution_count": 14,
   "metadata": {
    "colab": {
     "base_uri": "https://localhost:8080/"
    },
    "id": "9fvkCOc5o-YY",
    "outputId": "93be0cf2-4747-4101-86e5-c22c9bdc1ab4"
   },
   "outputs": [
    {
     "name": "stdout",
     "output_type": "stream",
     "text": [
      "Sun Feb 20 10:32:53 2022 [50/3000] content: 3.29  style: 3242.01  total: 3245.300293\n",
      "Sun Feb 20 10:33:42 2022 [100/3000] content: 9.65  style: 2493.46  total: 2503.111572\n",
      "Sun Feb 20 10:34:31 2022 [150/3000] content: 19.18  style: 2082.43  total: 2101.616455\n",
      "Sun Feb 20 10:35:18 2022 [200/3000] content: 26.15  style: 1602.72  total: 1628.865845\n",
      "Sun Feb 20 10:36:06 2022 [250/3000] content: 31.34  style: 1203.15  total: 1234.494141\n",
      "Sun Feb 20 10:36:54 2022 [300/3000] content: 33.95  style: 808.81  total: 842.763977\n",
      "Sun Feb 20 10:37:42 2022 [350/3000] content: 35.34  style: 615.83  total: 651.166809\n",
      "Sun Feb 20 10:38:31 2022 [400/3000] content: 36.53  style: 468.35  total: 504.886017\n",
      "Sun Feb 20 10:39:19 2022 [450/3000] content: 36.72  style: 424.45  total: 461.164917\n",
      "Sun Feb 20 10:40:07 2022 [500/3000] content: 36.94  style: 361.64  total: 398.577576\n",
      "Sun Feb 20 10:40:55 2022 [550/3000] content: 37.15  style: 324.86  total: 362.009521\n",
      "Sun Feb 20 10:41:43 2022 [600/3000] content: 37.09  style: 296.26  total: 333.346313\n",
      "Sun Feb 20 10:42:33 2022 [650/3000] content: 37.28  style: 286.02  total: 323.298126\n",
      "Sun Feb 20 10:43:22 2022 [700/3000] content: 37.52  style: 233.70  total: 271.211700\n",
      "Sun Feb 20 10:44:11 2022 [750/3000] content: 37.62  style: 229.86  total: 267.479889\n",
      "Sun Feb 20 10:45:00 2022 [800/3000] content: 37.81  style: 206.86  total: 244.666672\n",
      "Sun Feb 20 10:45:49 2022 [850/3000] content: 38.11  style: 185.32  total: 223.424957\n",
      "Sun Feb 20 10:46:38 2022 [900/3000] content: 38.30  style: 172.27  total: 210.569138\n",
      "Sun Feb 20 10:47:28 2022 [950/3000] content: 38.39  style: 169.02  total: 207.414215\n",
      "Sun Feb 20 10:48:17 2022 [1000/3000] content: 38.35  style: 165.35  total: 203.700165\n",
      "Sun Feb 20 10:49:06 2022 [1050/3000] content: 38.60  style: 164.20  total: 202.800262\n",
      "Sun Feb 20 10:49:56 2022 [1100/3000] content: 38.59  style: 152.99  total: 191.585205\n",
      "Sun Feb 20 10:50:45 2022 [1150/3000] content: 38.65  style: 149.93  total: 188.580078\n",
      "Sun Feb 20 10:51:34 2022 [1200/3000] content: 38.66  style: 149.63  total: 188.293076\n",
      "Sun Feb 20 10:52:25 2022 [1250/3000] content: 38.74  style: 140.59  total: 179.332382\n",
      "Sun Feb 20 10:53:17 2022 [1300/3000] content: 38.79  style: 135.94  total: 174.732346\n",
      "Sun Feb 20 10:54:08 2022 [1350/3000] content: 38.70  style: 147.22  total: 185.926422\n",
      "Sun Feb 20 10:54:59 2022 [1400/3000] content: 38.80  style: 134.54  total: 173.344086\n",
      "Sun Feb 20 10:55:49 2022 [1450/3000] content: 38.83  style: 136.38  total: 175.205032\n",
      "Sun Feb 20 10:56:40 2022 [1500/3000] content: 38.98  style: 130.04  total: 169.024719\n",
      "Sun Feb 20 10:57:31 2022 [1550/3000] content: 38.95  style: 124.31  total: 163.250931\n",
      "Sun Feb 20 10:58:22 2022 [1600/3000] content: 39.05  style: 120.99  total: 160.039993\n",
      "Sun Feb 20 10:59:12 2022 [1650/3000] content: 39.00  style: 125.52  total: 164.519058\n",
      "Sun Feb 20 11:00:04 2022 [1700/3000] content: 39.17  style: 120.18  total: 159.358856\n",
      "Sun Feb 20 11:00:54 2022 [1750/3000] content: 39.16  style: 111.85  total: 151.008118\n",
      "Sun Feb 20 11:01:45 2022 [1800/3000] content: 39.05  style: 113.77  total: 152.814682\n",
      "Sun Feb 20 11:02:36 2022 [1850/3000] content: 39.22  style: 115.39  total: 154.608704\n",
      "Sun Feb 20 11:03:28 2022 [1900/3000] content: 39.08  style: 111.43  total: 150.500443\n",
      "Sun Feb 20 11:04:19 2022 [1950/3000] content: 39.19  style: 108.54  total: 147.731613\n",
      "Sun Feb 20 11:05:10 2022 [2000/3000] content: 39.24  style: 113.16  total: 152.394531\n",
      "Sun Feb 20 11:06:01 2022 [2050/3000] content: 39.19  style: 111.53  total: 150.719437\n",
      "Sun Feb 20 11:06:52 2022 [2100/3000] content: 39.18  style: 109.02  total: 148.195450\n",
      "Sun Feb 20 11:07:44 2022 [2150/3000] content: 39.26  style: 106.09  total: 145.357208\n",
      "Sun Feb 20 11:08:35 2022 [2200/3000] content: 39.17  style: 104.74  total: 143.908722\n",
      "Sun Feb 20 11:09:26 2022 [2250/3000] content: 39.31  style: 106.31  total: 145.612289\n",
      "Sun Feb 20 11:10:18 2022 [2300/3000] content: 39.27  style: 108.00  total: 147.277191\n",
      "Sun Feb 20 11:11:09 2022 [2350/3000] content: 39.32  style: 100.65  total: 139.967621\n",
      "Sun Feb 20 11:12:01 2022 [2400/3000] content: 39.45  style: 98.73  total: 138.177063\n",
      "Sun Feb 20 11:12:52 2022 [2450/3000] content: 39.42  style: 103.15  total: 142.569580\n",
      "Sun Feb 20 11:13:44 2022 [2500/3000] content: 39.35  style: 96.75  total: 136.103897\n",
      "Sun Feb 20 11:14:35 2022 [2550/3000] content: 39.35  style: 103.98  total: 143.333740\n",
      "Sun Feb 20 11:15:27 2022 [2600/3000] content: 39.41  style: 97.28  total: 136.684799\n",
      "Sun Feb 20 11:16:18 2022 [2650/3000] content: 39.57  style: 93.73  total: 133.296524\n",
      "Sun Feb 20 11:17:10 2022 [2700/3000] content: 39.50  style: 95.31  total: 134.806702\n",
      "Sun Feb 20 11:18:02 2022 [2750/3000] content: 39.52  style: 99.91  total: 139.433456\n",
      "Sun Feb 20 11:18:55 2022 [2800/3000] content: 39.53  style: 93.95  total: 133.484451\n",
      "Sun Feb 20 11:19:46 2022 [2850/3000] content: 39.59  style: 92.42  total: 132.013397\n",
      "Sun Feb 20 11:20:38 2022 [2900/3000] content: 39.59  style: 92.65  total: 132.236969\n",
      "Sun Feb 20 11:21:29 2022 [2950/3000] content: 39.66  style: 91.12  total: 130.773788\n",
      "Sun Feb 20 11:22:20 2022 [3000/3000] content: 39.71  style: 89.18  total: 128.888794\n"
     ]
    }
   ],
   "source": [
    "train(3000)"
   ]
  },
  {
   "cell_type": "markdown",
   "metadata": {},
   "source": [
    "Comme sur le premier notebook, nous remarquons que la perte du content augmente puis se stabilise et que la loss du style diminue toujours.\n",
    "\n",
    "Nous pouvons déjà dire que le modèle présent ici n'a pas minimisé la fonction et donc manque d'itérations. (problème de performance de la machine)"
   ]
  },
  {
   "cell_type": "code",
   "execution_count": 15,
   "metadata": {},
   "outputs": [],
   "source": [
    "def load_image(filename, size=None, scale=None):\n",
    "    img = Image.open(filename).convert('RGB')\n",
    "    if size is not None:\n",
    "        img = img.resize((size, size), Image.ANTIALIAS)\n",
    "    elif scale is not None:\n",
    "        img = img.resize((int(img.size[0] / scale), int(img.size[1] / scale)), Image.ANTIALIAS)\n",
    "    return img\n",
    "\n",
    "def save_image(filename, data):\n",
    "    img = data.clone().clamp(0, 255).numpy()\n",
    "    img = img.transpose(1, 2, 0).astype(\"uint8\")\n",
    "    img = Image.fromarray(img)\n",
    "    img.save(filename)\n",
    "    \n",
    "def getUntransform() :\n",
    "    return transforms.ToPILImage()\n",
    "    \n",
    "def tensor_to_image(image) :\n",
    "    image = image.cpu().clone()  # torch.Size([1, 3, image_size, image_size])    \n",
    "    image = image.squeeze(0) # torch.Size([3, image_size, image_size])\n",
    "    image = getUntransform()(image)\n",
    "    return image \n",
    "\n",
    "def stylize(content_image, content_scale, output_image, model):\n",
    "    device = torch.device(\"cuda\")\n",
    "\n",
    "    content_image = load_image(content_image, scale=content_scale)\n",
    "    \n",
    "    transform = transforms.Compose([\n",
    "    transforms.Resize(224), \n",
    "    transforms.CenterCrop(224),\n",
    "    transforms.ToTensor(), \n",
    "    transforms.Normalize(\n",
    "        mean=[0.485, 0.456, 0.406],\n",
    "        std=[0.229, 0.224, 0.225])])\n",
    "    content_image = transform(content_image)\n",
    "    content_image = content_image.unsqueeze(0).to(device)\n",
    "\n",
    "    with torch.no_grad():\n",
    "        style_model = TransformerNet()\n",
    "        state_dict = torch.load(model)\n",
    "        for k in list(state_dict.keys()):\n",
    "            if re.search(r'in\\d+\\.running_(mean|var)$', k):\n",
    "                del state_dict[k]\n",
    "        style_model.load_state_dict(state_dict, strict = False)\n",
    "        style_model.to(device)\n",
    "        output = style_model(content_image)\n",
    "    \n",
    "    tensor_to_image(output).save(output_image)   "
   ]
  },
  {
   "cell_type": "code",
   "execution_count": 16,
   "metadata": {},
   "outputs": [],
   "source": [
    "stylize(path+\"content/content_9.jpg\", 224, \"output.jpg\", \"./models/m1.model\")"
   ]
  },
  {
   "attachments": {
    "content_9.jpg": {
     "image/jpeg": "[encoded data removed]"
    }
   },
   "cell_type": "markdown",
   "metadata": {},
   "source": [
    "![content_9.jpg](attachment:content_9.jpg)"
   ]
  },
  {
   "cell_type": "markdown",
   "metadata": {},
   "source": [
    "Resultat obtenu :"
   ]
  },
  {
   "attachments": {
    "output.jpg": {
     "image/jpeg": "[encoded data removed]"
    }
   },
   "cell_type": "markdown",
   "metadata": {},
   "source": [
    "![output.jpg](attachment:output.jpg)"
   ]
  },
  {
   "cell_type": "markdown",
   "metadata": {},
   "source": [
    "Le résultat obtenu n'est pas concluant, nous avons cherché à savoir pourquoi.\n",
    "\n",
    "Premièrement, nous avons choisi d'utiliser le modèle pré-entraîné VGG19 au lieu de VGG16, celui conseillé dans le papier. L'hypothèse que ce modèle de ne permet pas de minimiser notre fonction et donc le style n'est pas retenu selon nous.\n",
    "\n",
    "Deuxièmement, nous n'avons pas le matériel technique afin de pouvoir tester sans retenu nos modèles. La puissance de calcul étant insuffisante, nous n'avons pas pu tester plusieurs optimiseur comme Adam ou SGD ou LBFGS, avec différentes valeurs de taux d'apprentissage (learning rate).\n",
    "De plus, nous n'avons pas cherché le sur-apprentissage de notre modèle, car une seule époch prend énormément de temps sur nos machines.\n",
    "En se penchant sur certains articles de blog (comme [celui-ci](https://towardsdatascience.com/perceptual-losses-for-real-time-style-transfer-and-super-resolution-637b5d93fa6d)) nous pouvons dire qu'il serait peut-être nécessaire de faire 40 000 itérations, au minimun, afin d'obtenir des résultats.\n",
    "\n",
    "En essayant d'implémenter un modèle dans l'air du temps, nous avons dû faire face aux difficultés du Deep Learning, c'est-à-dire la puissance de calcul."
   ]
  },
  {
   "cell_type": "markdown",
   "metadata": {},
   "source": [
    "## « Arbitrary Style Transfer »\n",
    "\n",
    "Nous avons quand meme continué les recherches en cherchant les implémentations les plus performantes aujourd'hui.\n",
    "Un modèle qui permettrait de faire n'importe quel style sans avoir un modèle pré entrainé.\n",
    "\n",
    "- [« Arbitrary Style Transfer in Real-time with Adaptive Instance Normalization »](https://arxiv.org/abs/1703.06868)\n",
    "- [« Exploring the structure of a real-time, arbitrary neural artistic stylization network »](https://arxiv.org/abs/1705.06830)\n",
    "\n",
    "Ce modèle est le plus complexe. Il permet d’appliquer n’importe quel style pour un content avec un seul modèle.\n",
    "\n",
    "La structure est la suivante :\n",
    "\n",
    "- Un réseau de transfer de style \n",
    "- Un réseau permettant de calculer la loss\n",
    "- Un réseau de prédiction sur le style choisi\n",
    "\n",
    "Ce modèle fonctionne comme celui du dessus, simplement le réseau de prédiction de style va permettre au modèle de comprendre le style demandé et de l’envoyer directement dans le réseau qui fera le transfer.\n",
    "\n",
    "Il demande donc beaucoup de temps de calcul, ainsi qu’une capacité de stockage importante, car il faut à la fois pourvoir entrainer le modèle pour le transfer de style mais également le modèle pour le prédiction du style.\n",
    "\n",
    "\n",
    "**Bibliographie :**\n",
    "\n",
    "\n",
    "1. Leon A. Gatys, Alexander S. Ecker, Matthias Bethge. \"A Neural Algorithm of Artistic Style\". https://arxiv.org/abs/1508.06576\n",
    "2. Justin Johnson, Alexandre Alahi, Li Fei-Fei. \"Perceptual Losses for Real-Time Style Transfer and Super-Resolution\". https://arxiv.org/abs/1603.08155\n",
    "3. Xun Huang, Serge Belongie. \"Arbitrary Style Transfer in Real-time with Adaptive Instance Normalization\". https://arxiv.org/abs/1703.06868\n",
    "4. Golnaz Ghiasi, Honglak Lee, Manjunath Kudlur, Vincent Dumoulin, Jonathon Shlens. \"Exploring the structure of a real-time, arbitrary neural artistic stylization network\". https://arxiv.org/abs/1705.06830\n",
    "5. François Pachet. \"Style transfert full Architecture process\"\n",
    "6. Alec Radford, Luke Metz, Soumith Chintala. \"Unsupervised Representation Learning with Deep Convolutional Generative Adversarial Networks\" https://arxiv.org/abs/1511.06434"
   ]
  }
 ],
 "metadata": {
  "accelerator": "GPU",
  "colab": {
   "name": "Untitled7.ipynb",
   "provenance": []
  },
  "kernelspec": {
   "display_name": "Python 3",
   "language": "python",
   "name": "python3"
  },
  "language_info": {
   "codemirror_mode": {
    "name": "ipython",
    "version": 3
   },
   "file_extension": ".py",
   "mimetype": "text/x-python",
   "name": "python",
   "nbconvert_exporter": "python",
   "pygments_lexer": "ipython3",
   "version": "3.6.13"
  },
  "widgets": {
   "application/vnd.jupyter.widget-state+json": {
    "0fdb38d476b942d59173c0f18529a33f": {
     "model_module": "@jupyter-widgets/controls",
     "model_module_version": "1.5.0",
     "model_name": "HTMLModel",
     "state": {
      "_dom_classes": [],
      "_model_module": "@jupyter-widgets/controls",
      "_model_module_version": "1.5.0",
      "_model_name": "HTMLModel",
      "_view_count": null,
      "_view_module": "@jupyter-widgets/controls",
      "_view_module_version": "1.5.0",
      "_view_name": "HTMLView",
      "description": "",
      "description_tooltip": null,
      "layout": "IPY_MODEL_adb1eee36d5c43f68e838ca82bc378f4",
      "placeholder": "​",
      "style": "IPY_MODEL_6a5357afbe5241e486cf6c9c7fc552c8",
      "value": "100%"
     }
    },
    "159bd5587516430cbf053795b97f50f3": {
     "model_module": "@jupyter-widgets/controls",
     "model_module_version": "1.5.0",
     "model_name": "HBoxModel",
     "state": {
      "_dom_classes": [],
      "_model_module": "@jupyter-widgets/controls",
      "_model_module_version": "1.5.0",
      "_model_name": "HBoxModel",
      "_view_count": null,
      "_view_module": "@jupyter-widgets/controls",
      "_view_module_version": "1.5.0",
      "_view_name": "HBoxView",
      "box_style": "",
      "children": [
       "IPY_MODEL_0fdb38d476b942d59173c0f18529a33f",
       "IPY_MODEL_37c406a334034b1ea02898b7834210a7",
       "IPY_MODEL_5d0e3be02c234399937da5c00341b8b7"
      ],
      "layout": "IPY_MODEL_2510e8b2ac62466593970d6ce47c96b4"
     }
    },
    "1f8f39374044474fb572b74b19dfafad": {
     "model_module": "@jupyter-widgets/base",
     "model_module_version": "1.2.0",
     "model_name": "LayoutModel",
     "state": {
      "_model_module": "@jupyter-widgets/base",
      "_model_module_version": "1.2.0",
      "_model_name": "LayoutModel",
      "_view_count": null,
      "_view_module": "@jupyter-widgets/base",
      "_view_module_version": "1.2.0",
      "_view_name": "LayoutView",
      "align_content": null,
      "align_items": null,
      "align_self": null,
      "border": null,
      "bottom": null,
      "display": null,
      "flex": null,
      "flex_flow": null,
      "grid_area": null,
      "grid_auto_columns": null,
      "grid_auto_flow": null,
      "grid_auto_rows": null,
      "grid_column": null,
      "grid_gap": null,
      "grid_row": null,
      "grid_template_areas": null,
      "grid_template_columns": null,
      "grid_template_rows": null,
      "height": null,
      "justify_content": null,
      "justify_items": null,
      "left": null,
      "margin": null,
      "max_height": null,
      "max_width": null,
      "min_height": null,
      "min_width": null,
      "object_fit": null,
      "object_position": null,
      "order": null,
      "overflow": null,
      "overflow_x": null,
      "overflow_y": null,
      "padding": null,
      "right": null,
      "top": null,
      "visibility": null,
      "width": null
     }
    },
    "2510e8b2ac62466593970d6ce47c96b4": {
     "model_module": "@jupyter-widgets/base",
     "model_module_version": "1.2.0",
     "model_name": "LayoutModel",
     "state": {
      "_model_module": "@jupyter-widgets/base",
      "_model_module_version": "1.2.0",
      "_model_name": "LayoutModel",
      "_view_count": null,
      "_view_module": "@jupyter-widgets/base",
      "_view_module_version": "1.2.0",
      "_view_name": "LayoutView",
      "align_content": null,
      "align_items": null,
      "align_self": null,
      "border": null,
      "bottom": null,
      "display": null,
      "flex": null,
      "flex_flow": null,
      "grid_area": null,
      "grid_auto_columns": null,
      "grid_auto_flow": null,
      "grid_auto_rows": null,
      "grid_column": null,
      "grid_gap": null,
      "grid_row": null,
      "grid_template_areas": null,
      "grid_template_columns": null,
      "grid_template_rows": null,
      "height": null,
      "justify_content": null,
      "justify_items": null,
      "left": null,
      "margin": null,
      "max_height": null,
      "max_width": null,
      "min_height": null,
      "min_width": null,
      "object_fit": null,
      "object_position": null,
      "order": null,
      "overflow": null,
      "overflow_x": null,
      "overflow_y": null,
      "padding": null,
      "right": null,
      "top": null,
      "visibility": null,
      "width": null
     }
    },
    "37c406a334034b1ea02898b7834210a7": {
     "model_module": "@jupyter-widgets/controls",
     "model_module_version": "1.5.0",
     "model_name": "FloatProgressModel",
     "state": {
      "_dom_classes": [],
      "_model_module": "@jupyter-widgets/controls",
      "_model_module_version": "1.5.0",
      "_model_name": "FloatProgressModel",
      "_view_count": null,
      "_view_module": "@jupyter-widgets/controls",
      "_view_module_version": "1.5.0",
      "_view_name": "ProgressView",
      "bar_style": "success",
      "description": "",
      "description_tooltip": null,
      "layout": "IPY_MODEL_ecdf8b85429949268bd383e7c90a41d3",
      "max": 574673361,
      "min": 0,
      "orientation": "horizontal",
      "style": "IPY_MODEL_ed087943701442e99f90345fab776f25",
      "value": 574673361
     }
    },
    "5d0e3be02c234399937da5c00341b8b7": {
     "model_module": "@jupyter-widgets/controls",
     "model_module_version": "1.5.0",
     "model_name": "HTMLModel",
     "state": {
      "_dom_classes": [],
      "_model_module": "@jupyter-widgets/controls",
      "_model_module_version": "1.5.0",
      "_model_name": "HTMLModel",
      "_view_count": null,
      "_view_module": "@jupyter-widgets/controls",
      "_view_module_version": "1.5.0",
      "_view_name": "HTMLView",
      "description": "",
      "description_tooltip": null,
      "layout": "IPY_MODEL_1f8f39374044474fb572b74b19dfafad",
      "placeholder": "​",
      "style": "IPY_MODEL_ada0b83077064941a3579448eb5a66d4",
      "value": " 548M/548M [00:11&lt;00:00, 42.8MB/s]"
     }
    },
    "6a5357afbe5241e486cf6c9c7fc552c8": {
     "model_module": "@jupyter-widgets/controls",
     "model_module_version": "1.5.0",
     "model_name": "DescriptionStyleModel",
     "state": {
      "_model_module": "@jupyter-widgets/controls",
      "_model_module_version": "1.5.0",
      "_model_name": "DescriptionStyleModel",
      "_view_count": null,
      "_view_module": "@jupyter-widgets/base",
      "_view_module_version": "1.2.0",
      "_view_name": "StyleView",
      "description_width": ""
     }
    },
    "ada0b83077064941a3579448eb5a66d4": {
     "model_module": "@jupyter-widgets/controls",
     "model_module_version": "1.5.0",
     "model_name": "DescriptionStyleModel",
     "state": {
      "_model_module": "@jupyter-widgets/controls",
      "_model_module_version": "1.5.0",
      "_model_name": "DescriptionStyleModel",
      "_view_count": null,
      "_view_module": "@jupyter-widgets/base",
      "_view_module_version": "1.2.0",
      "_view_name": "StyleView",
      "description_width": ""
     }
    },
    "adb1eee36d5c43f68e838ca82bc378f4": {
     "model_module": "@jupyter-widgets/base",
     "model_module_version": "1.2.0",
     "model_name": "LayoutModel",
     "state": {
      "_model_module": "@jupyter-widgets/base",
      "_model_module_version": "1.2.0",
      "_model_name": "LayoutModel",
      "_view_count": null,
      "_view_module": "@jupyter-widgets/base",
      "_view_module_version": "1.2.0",
      "_view_name": "LayoutView",
      "align_content": null,
      "align_items": null,
      "align_self": null,
      "border": null,
      "bottom": null,
      "display": null,
      "flex": null,
      "flex_flow": null,
      "grid_area": null,
      "grid_auto_columns": null,
      "grid_auto_flow": null,
      "grid_auto_rows": null,
      "grid_column": null,
      "grid_gap": null,
      "grid_row": null,
      "grid_template_areas": null,
      "grid_template_columns": null,
      "grid_template_rows": null,
      "height": null,
      "justify_content": null,
      "justify_items": null,
      "left": null,
      "margin": null,
      "max_height": null,
      "max_width": null,
      "min_height": null,
      "min_width": null,
      "object_fit": null,
      "object_position": null,
      "order": null,
      "overflow": null,
      "overflow_x": null,
      "overflow_y": null,
      "padding": null,
      "right": null,
      "top": null,
      "visibility": null,
      "width": null
     }
    },
    "ecdf8b85429949268bd383e7c90a41d3": {
     "model_module": "@jupyter-widgets/base",
     "model_module_version": "1.2.0",
     "model_name": "LayoutModel",
     "state": {
      "_model_module": "@jupyter-widgets/base",
      "_model_module_version": "1.2.0",
      "_model_name": "LayoutModel",
      "_view_count": null,
      "_view_module": "@jupyter-widgets/base",
      "_view_module_version": "1.2.0",
      "_view_name": "LayoutView",
      "align_content": null,
      "align_items": null,
      "align_self": null,
      "border": null,
      "bottom": null,
      "display": null,
      "flex": null,
      "flex_flow": null,
      "grid_area": null,
      "grid_auto_columns": null,
      "grid_auto_flow": null,
      "grid_auto_rows": null,
      "grid_column": null,
      "grid_gap": null,
      "grid_row": null,
      "grid_template_areas": null,
      "grid_template_columns": null,
      "grid_template_rows": null,
      "height": null,
      "justify_content": null,
      "justify_items": null,
      "left": null,
      "margin": null,
      "max_height": null,
      "max_width": null,
      "min_height": null,
      "min_width": null,
      "object_fit": null,
      "object_position": null,
      "order": null,
      "overflow": null,
      "overflow_x": null,
      "overflow_y": null,
      "padding": null,
      "right": null,
      "top": null,
      "visibility": null,
      "width": null
     }
    },
    "ed087943701442e99f90345fab776f25": {
     "model_module": "@jupyter-widgets/controls",
     "model_module_version": "1.5.0",
     "model_name": "ProgressStyleModel",
     "state": {
      "_model_module": "@jupyter-widgets/controls",
      "_model_module_version": "1.5.0",
      "_model_name": "ProgressStyleModel",
      "_view_count": null,
      "_view_module": "@jupyter-widgets/base",
      "_view_module_version": "1.2.0",
      "_view_name": "StyleView",
      "bar_color": null,
      "description_width": ""
     }
    }
   }
  }
 },
 "nbformat": 4,
 "nbformat_minor": 1
}
